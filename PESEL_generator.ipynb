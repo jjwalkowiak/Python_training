{
  "nbformat": 4,
  "nbformat_minor": 0,
  "metadata": {
    "colab": {
      "name": "PESEL_generator.ipynb",
      "provenance": [],
      "collapsed_sections": [],
      "authorship_tag": "ABX9TyN3NO2vENUK/6y6m2l+hUW8",
      "include_colab_link": true
    },
    "kernelspec": {
      "name": "python3",
      "display_name": "Python 3"
    }
  },
  "cells": [
    {
      "cell_type": "markdown",
      "metadata": {
        "id": "view-in-github",
        "colab_type": "text"
      },
      "source": [
        "<a href=\"https://colab.research.google.com/github/jjwalkowiak/Python_training/blob/Brancz1/PESEL_generator.ipynb\" target=\"_parent\"><img src=\"https://colab.research.google.com/assets/colab-badge.svg\" alt=\"Open In Colab\"/></a>"
      ]
    },
    {
      "cell_type": "code",
      "metadata": {
        "id": "JZQG3LBljzTf"
      },
      "source": [
        "import numpy as np\n",
        "import random"
      ],
      "execution_count": 2,
      "outputs": []
    },
    {
      "cell_type": "code",
      "metadata": {
        "id": "NE00HxFqB-zX"
      },
      "source": [
        "def generate_pesels (n):\n",
        "  year = np.random.randint(low=1800, high=2299, size=n)\n",
        "  month = np.random.randint(low=1, high=12, size=n)\n",
        "\n",
        "  #create and fill day array\n",
        "  day = np.random.randint(low=1, high=32, size=n)\n",
        "\n",
        "  mask=([x in [4,6,9,11] for x in month])\n",
        "  day[mask]=np.random.randint(low=1, high=31, size=np.count_nonzero(mask))\n",
        "\n",
        "  mask=month[(month == 2) & (year%4==0) & ((year%100!=00) ^ (year%1000==000))]\n",
        "  day[mask]=np.random.randint(low=1, high=30, size=np.count_nonzero(mask))\n",
        "\n",
        "  mask=month[(month == 2) & ((year%4!=0) ^ (year%100==00) & (year%1000!=000))]\n",
        "  day[mask]=np.random.randint(low=1, high=29, size=np.count_nonzero(mask))\n",
        "\n",
        "\n",
        "\n",
        "  #modify month array to represent centuries in PESEL\n",
        "  month[year<1900]+=80\n",
        "  month[year>=2000]+=20\n",
        "  month[year>=2100]+=20\n",
        "  month[year>=2200]+=20\n",
        "\n",
        "  ser_1 = np.random.randint(low=0, high=9, size=n)\n",
        "  ser_2 = np.random.randint(low=0, high=9, size=n)\n",
        "  ser_3 = np.random.randint(low=0, high=9, size=n)\n",
        "  sex = np.random.randint(low=0, high=1, size=n)\n",
        "\n",
        "\n",
        "\n",
        "  # checksum\n",
        "  control = (year//10) + 3*(year%10)\n",
        "  control += 7*(month//10) + 9*(month%10)\n",
        "  control += (day//10) + 3*(day%10)\n",
        "  control += 7*(ser_1//10) + 9*(ser_1%10)\n",
        "  control += (ser_2//10) + 3*(ser_2%10)\n",
        "  control += 7*(ser_3//10) + 9*(ser_3%10)\n",
        "  control += (sex//10) + 3*(sex%10)\n",
        "\n",
        "  control = (10 - (control % 10)) % 10\n",
        "\n",
        "  pesel_array = 1000000000*(year%100) + 10000000*month + 100000*day + 10000*ser_1 + 1000*ser_2 + 100*ser_3 + 10 * sex + control\n",
        "  return pesel_array.astype(int)\n"
      ],
      "execution_count": 3,
      "outputs": []
    },
    {
      "cell_type": "code",
      "metadata": {
        "id": "pDSujDMeuvbX"
      },
      "source": [
        "pesel_db=generate_pesels (n = 40000000)"
      ],
      "execution_count": 4,
      "outputs": []
    },
    {
      "cell_type": "code",
      "metadata": {
        "id": "mNtuiDfMtUDu",
        "outputId": "161d2165-7869-418f-ec5a-ebec9f62b424",
        "colab": {
          "base_uri": "https://localhost:8080/"
        }
      },
      "source": [
        "pesel_db_unique=np.unique(pesel_db)\n",
        "missing_pesels=len(pesel_db)-len(pesel_db_unique)\n",
        "while missing_pesels>0:\n",
        "  print(str(missing_pesels)+\" duplicates, generating new PESEL numbers\")\n",
        "  pesel_db=np.concatenate((pesel_db_unique,generate_pesels(n = missing_pesels)))\n",
        "  pesel_db_unique=np.unique(pesel_db)\n",
        "  missing_pesels=len(pesel_db)-len(pesel_db_unique)\n",
        "\n",
        "print(pesel_db)"
      ],
      "execution_count": 6,
      "outputs": [
        {
          "output_type": "stream",
          "text": [
            "1 duplicates, generating new PESEL numbers\n",
            "[   10100008    10100109    10100402 ... 99913088205 99913088306\n",
            " 76262180404]\n"
          ],
          "name": "stdout"
        }
      ]
    },
    {
      "cell_type": "code",
      "metadata": {
        "id": "t5gUGcHcppBb"
      },
      "source": [
        "x=np.array(np.logspace(2,11,10))\n",
        "#print(x)\n",
        "#print(pesel_db[1])\n",
        "vibration = (pesel_db%10).astype(float)\n",
        "\n",
        "for y in x:\n",
        "#  print(y)\n",
        "  vibration += (( pesel_db%y - pesel_db%(y/10) ) /y*10 )\n",
        "# print(vibration[1])\n",
        "\n",
        "#print(vibration)\n",
        "\n",
        "vibration = vibration%10 + (vibration%100 - vibration%10) / 10\n",
        "#print(vibration)\n",
        "vibration = vibration%10 + (vibration%100 - vibration%10) / 10\n",
        "vibration=vibration.astype(int)"
      ],
      "execution_count": 7,
      "outputs": []
    },
    {
      "cell_type": "code",
      "metadata": {
        "id": "BjeDiVnyqmmT",
        "outputId": "efabcb9a-7222-4606-ba51-f61fc54be337",
        "colab": {
          "base_uri": "https://localhost:8080/"
        }
      },
      "source": [
        "print(vibration)\n",
        "#print(max(vibration))"
      ],
      "execution_count": 8,
      "outputs": [
        {
          "output_type": "stream",
          "text": [
            "[1 3 8 ... 9 2 4]\n"
          ],
          "name": "stdout"
        }
      ]
    },
    {
      "cell_type": "code",
      "metadata": {
        "id": "l1bDoVvxLgR-",
        "outputId": "33917a92-e5e4-4963-c52f-efc7fae3e513",
        "colab": {
          "base_uri": "https://localhost:8080/"
        }
      },
      "source": [
        "x=np.array(np.logspace(2,11,10))\n",
        "print(x)\n",
        "print(pesel_db[1])\n",
        "reverse = (pesel_db%10).astype(float)*10000000000\n",
        "print(hipervibration[1])\n",
        "\n",
        "for y in x:\n",
        "  print(y)\n",
        "  digit = (( pesel_db%y - pesel_db%(y/10) ) /y*10 )\n",
        "  reverse += digit*100000000000/y\n",
        "  print(reverse[1])\n",
        "\n",
        "#print(reverse)\n",
        "reverse=reverse.astype(int)"
      ],
      "execution_count": 24,
      "outputs": [
        {
          "output_type": "stream",
          "text": [
            "[1.e+02 1.e+03 1.e+04 1.e+05 1.e+06 1.e+07 1.e+08 1.e+09 1.e+10 1.e+11]\n",
            "10100109\n",
            "9.0\n",
            "100.0\n",
            "90000000000.0\n",
            "1000.0\n",
            "90100000000.0\n",
            "10000.0\n",
            "90100000000.0\n",
            "100000.0\n",
            "90100000000.0\n",
            "1000000.0\n",
            "90100100000.0\n",
            "10000000.0\n",
            "90100100000.0\n",
            "100000000.0\n",
            "90100101000.0\n",
            "1000000000.0\n",
            "90100101000.0\n",
            "10000000000.0\n",
            "90100101000.0\n",
            "100000000000.0\n",
            "90100101000.0\n"
          ],
          "name": "stdout"
        }
      ]
    },
    {
      "cell_type": "code",
      "metadata": {
        "id": "6d5eJO9P5hyt",
        "outputId": "c5f15a36-fbbc-484d-96b0-74539ffd35b6",
        "colab": {
          "base_uri": "https://localhost:8080/"
        }
      },
      "source": [
        "print(reverse)\n",
        "print(pesel_db)"
      ],
      "execution_count": 28,
      "outputs": [
        {
          "output_type": "stream",
          "text": [
            "[80000101000 90100101000 20400101000 ... 50288031999 60388031999\n",
            " 40408126267]\n",
            "[   10100008    10100109    10100402 ... 99913088205 99913088306\n",
            " 76262180404]\n"
          ],
          "name": "stdout"
        }
      ]
    }
  ]
}